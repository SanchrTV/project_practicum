{
  "nbformat": 4,
  "nbformat_minor": 0,
  "metadata": {
    "colab": {
      "provenance": []
    },
    "kernelspec": {
      "name": "python3",
      "display_name": "Python 3"
    },
    "language_info": {
      "name": "python"
    }
  },
  "cells": [
    {
      "cell_type": "code",
      "source": [
        "import pandas as pd\n",
        "import numpy as np\n",
        "from sklearn.model_selection import train_test_split\n",
        "from sklearn.metrics import accuracy_score, classification_report\n",
        "from sklearn.linear_model import LogisticRegression"
      ],
      "metadata": {
        "id": "cXRVvukf2GYl"
      },
      "execution_count": 6,
      "outputs": []
    },
    {
      "cell_type": "code",
      "execution_count": 7,
      "metadata": {
        "colab": {
          "base_uri": "https://localhost:8080/"
        },
        "id": "eb5susC319MR",
        "outputId": "d422cb8a-4906-47f1-fe16-feb171c4f35b"
      },
      "outputs": [
        {
          "output_type": "stream",
          "name": "stdout",
          "text": [
            "<class 'pandas.core.frame.DataFrame'>\n",
            "RangeIndex: 418 entries, 0 to 417\n",
            "Data columns (total 12 columns):\n",
            " #   Column       Non-Null Count  Dtype  \n",
            "---  ------       --------------  -----  \n",
            " 0   PassengerId  418 non-null    int64  \n",
            " 1   Survived     418 non-null    int64  \n",
            " 2   Pclass       418 non-null    int64  \n",
            " 3   Name         418 non-null    object \n",
            " 4   Sex          418 non-null    object \n",
            " 5   Age          332 non-null    float64\n",
            " 6   SibSp        418 non-null    int64  \n",
            " 7   Parch        418 non-null    int64  \n",
            " 8   Ticket       418 non-null    object \n",
            " 9   Fare         417 non-null    float64\n",
            " 10  Cabin        91 non-null     object \n",
            " 11  Embarked     418 non-null    object \n",
            "dtypes: float64(2), int64(5), object(5)\n",
            "memory usage: 39.3+ KB\n"
          ]
        },
        {
          "output_type": "execute_result",
          "data": {
            "text/plain": [
              "(None,\n",
              "    PassengerId  Survived  Pclass  \\\n",
              " 0          892         0       3   \n",
              " 1          893         1       3   \n",
              " 2          894         0       2   \n",
              " 3          895         0       3   \n",
              " 4          896         1       3   \n",
              " \n",
              "                                            Name     Sex   Age  SibSp  Parch  \\\n",
              " 0                              Kelly, Mr. James    male  34.5      0      0   \n",
              " 1              Wilkes, Mrs. James (Ellen Needs)  female  47.0      1      0   \n",
              " 2                     Myles, Mr. Thomas Francis    male  62.0      0      0   \n",
              " 3                              Wirz, Mr. Albert    male  27.0      0      0   \n",
              " 4  Hirvonen, Mrs. Alexander (Helga E Lindqvist)  female  22.0      1      1   \n",
              " \n",
              "     Ticket     Fare Cabin Embarked  \n",
              " 0   330911   7.8292   NaN        Q  \n",
              " 1   363272   7.0000   NaN        S  \n",
              " 2   240276   9.6875   NaN        Q  \n",
              " 3   315154   8.6625   NaN        S  \n",
              " 4  3101298  12.2875   NaN        S  )"
            ]
          },
          "metadata": {},
          "execution_count": 7
        }
      ],
      "source": [
        "# Загрузка файла\n",
        "file_path = './Titanic.csv'\n",
        "data = pd.read_csv(file_path)\n",
        "\n",
        "# Просмотр первых строк и общей информации о данных\n",
        "data_info = data.info()\n",
        "data_head = data.head()\n",
        "\n",
        "data_info, data_head\n"
      ]
    },
    {
      "cell_type": "markdown",
      "source": [
        "### Разделение данных на обучающую и тестовую выборки"
      ],
      "metadata": {
        "id": "wGkFKT1R228e"
      }
    },
    {
      "cell_type": "code",
      "source": [
        "# Упрощенная предобработка: использование только числовых и категориальных данных без пропусков\n",
        "data_simple = data[['Pclass', 'Sex', 'SibSp', 'Parch', 'Fare', 'Survived']].copy()\n",
        "\n",
        "# Кодирование категориального признака 'Sex'\n",
        "data_simple['Sex'] = data_simple['Sex'].map({'male': 0, 'female': 1})\n",
        "\n",
        "# Удаление строк с пропусками\n",
        "data_simple.dropna(inplace=True)\n",
        "\n",
        "# Разделение на признаки (X) и целевую переменную (y)\n",
        "X = data_simple.drop(columns=['Survived'])\n",
        "y = data_simple['Survived']\n",
        "\n",
        "# Разделение данных на обучающую и тестовую выборки\n",
        "X_train, X_test, y_train, y_test = train_test_split(X, y, test_size=0.3, random_state=42)\n",
        "\n",
        "X_train.shape, X_test.shape, y_train.shape, y_test.shape"
      ],
      "metadata": {
        "colab": {
          "base_uri": "https://localhost:8080/"
        },
        "id": "ZWfDFiFV2Odx",
        "outputId": "aa28dc88-e412-416f-b02c-e05e1e7aee64"
      },
      "execution_count": 8,
      "outputs": [
        {
          "output_type": "execute_result",
          "data": {
            "text/plain": [
              "((291, 5), (126, 5), (291,), (126,))"
            ]
          },
          "metadata": {},
          "execution_count": 8
        }
      ]
    },
    {
      "cell_type": "markdown",
      "source": [
        "### Обучение модели на первоначальных данных без обработки"
      ],
      "metadata": {
        "id": "GssJlnZc277-"
      }
    },
    {
      "cell_type": "code",
      "source": [
        "# Инициализация и обучение логистической регрессии на первоначальных данных\n",
        "model_baseline = LogisticRegression(random_state=42)\n",
        "model_baseline.fit(X_train, y_train)\n",
        "\n",
        "# Предсказания на тестовой выборке\n",
        "y_pred_baseline = model_baseline.predict(X_test)\n",
        "\n",
        "# Оценка метрик\n",
        "accuracy_baseline = accuracy_score(y_test, y_pred_baseline)\n",
        "report_baseline = classification_report(y_test, y_pred_baseline, target_names=[\"Not Survived\", \"Survived\"])\n",
        "\n",
        "accuracy_baseline"
      ],
      "metadata": {
        "colab": {
          "base_uri": "https://localhost:8080/"
        },
        "id": "y3wfhUe22PCB",
        "outputId": "afd8a9aa-d630-41a9-b61d-f8ffc60b1d3a"
      },
      "execution_count": 19,
      "outputs": [
        {
          "output_type": "execute_result",
          "data": {
            "text/plain": [
              "1.0"
            ]
          },
          "metadata": {},
          "execution_count": 19
        }
      ]
    },
    {
      "cell_type": "code",
      "source": [
        "report_baseline"
      ],
      "metadata": {
        "colab": {
          "base_uri": "https://localhost:8080/",
          "height": 67
        },
        "id": "Jv6DA_5k3aE4",
        "outputId": "8460e9e5-44ea-4dc6-8c0d-473a46900fd7"
      },
      "execution_count": 20,
      "outputs": [
        {
          "output_type": "execute_result",
          "data": {
            "text/plain": [
              "'              precision    recall  f1-score   support\\n\\nNot Survived       1.00      1.00      1.00        79\\n    Survived       1.00      1.00      1.00        47\\n\\n    accuracy                           1.00       126\\n   macro avg       1.00      1.00      1.00       126\\nweighted avg       1.00      1.00      1.00       126\\n'"
            ],
            "application/vnd.google.colaboratory.intrinsic+json": {
              "type": "string"
            }
          },
          "metadata": {},
          "execution_count": 20
        }
      ]
    },
    {
      "cell_type": "markdown",
      "source": [
        "### Обучение модели на обработанных данных и сравнение метрик"
      ],
      "metadata": {
        "id": "lPL2RVw23Asq"
      }
    },
    {
      "cell_type": "code",
      "source": [
        "# Дополнительная обработка данных: нормализация числовых признаков\n",
        "from sklearn.preprocessing import MinMaxScaler\n",
        "\n",
        "scaler = MinMaxScaler()\n",
        "X_train_scaled = scaler.fit_transform(X_train)\n",
        "X_test_scaled = scaler.transform(X_test)\n",
        "\n",
        "# Обучение модели на обработанных данных\n",
        "model_processed = LogisticRegression(random_state=42)\n",
        "model_processed.fit(X_train_scaled, y_train)\n",
        "\n",
        "# Предсказания на тестовой выборке\n",
        "y_pred_processed = model_processed.predict(X_test_scaled)\n",
        "\n",
        "# Оценка метрик\n",
        "accuracy_processed = accuracy_score(y_test, y_pred_processed)\n",
        "report_processed = classification_report(y_test, y_pred_processed, target_names=[\"Not Survived\", \"Survived\"])\n",
        "\n",
        "accuracy_processed"
      ],
      "metadata": {
        "colab": {
          "base_uri": "https://localhost:8080/"
        },
        "id": "fWMiaCbU2XH_",
        "outputId": "1ac835c7-abad-46e2-dd35-a38015b78523"
      },
      "execution_count": 17,
      "outputs": [
        {
          "output_type": "execute_result",
          "data": {
            "text/plain": [
              "1.0"
            ]
          },
          "metadata": {},
          "execution_count": 17
        }
      ]
    },
    {
      "cell_type": "code",
      "source": [
        "report_processed"
      ],
      "metadata": {
        "colab": {
          "base_uri": "https://localhost:8080/",
          "height": 67
        },
        "id": "6bMkfIMN3Xop",
        "outputId": "40842741-12e3-4bad-c10e-599886919810"
      },
      "execution_count": 18,
      "outputs": [
        {
          "output_type": "execute_result",
          "data": {
            "text/plain": [
              "'              precision    recall  f1-score   support\\n\\nNot Survived       1.00      1.00      1.00        79\\n    Survived       1.00      1.00      1.00        47\\n\\n    accuracy                           1.00       126\\n   macro avg       1.00      1.00      1.00       126\\nweighted avg       1.00      1.00      1.00       126\\n'"
            ],
            "application/vnd.google.colaboratory.intrinsic+json": {
              "type": "string"
            }
          },
          "metadata": {},
          "execution_count": 18
        }
      ]
    },
    {
      "cell_type": "code",
      "source": [
        "# Статистический подход: поиск выбросов с использованием межквартильного размаха (IQR)\n",
        "Q1 = X_train.quantile(0.25)\n",
        "Q3 = X_train.quantile(0.75)\n",
        "IQR = Q3 - Q1\n",
        "\n",
        "# Определение границ для выбросов\n",
        "lower_bound = Q1 - 1.5 * IQR\n",
        "upper_bound = Q3 + 1.5 * IQR\n",
        "\n",
        "# Выбросы по каждому признаку\n",
        "outliers = ((X_train < lower_bound) | (X_train > upper_bound)).any(axis=1)\n",
        "\n",
        "# Удаление выбросов\n",
        "X_train_no_outliers = X_train[~outliers]\n",
        "y_train_no_outliers = y_train[~outliers]\n",
        "\n",
        "# Проверка размера данных после удаления выбросов\n",
        "X_train_no_outliers.shape, y_train_no_outliers.shape"
      ],
      "metadata": {
        "colab": {
          "base_uri": "https://localhost:8080/"
        },
        "id": "x8c0b6X_2Y52",
        "outputId": "08cde04e-8ec7-4439-9f6e-dae13ac37a73"
      },
      "execution_count": 11,
      "outputs": [
        {
          "output_type": "execute_result",
          "data": {
            "text/plain": [
              "((245, 5), (245,))"
            ]
          },
          "metadata": {},
          "execution_count": 11
        }
      ]
    },
    {
      "cell_type": "code",
      "source": [
        "# Обучение модели на данных без выбросов\n",
        "model_no_outliers = LogisticRegression(random_state=42)\n",
        "model_no_outliers.fit(X_train_no_outliers, y_train_no_outliers)\n",
        "\n",
        "# Предсказания на тестовой выборке\n",
        "y_pred_no_outliers = model_no_outliers.predict(X_test)\n",
        "\n",
        "# Оценка метрик\n",
        "accuracy_no_outliers = accuracy_score(y_test, y_pred_no_outliers)\n",
        "report_no_outliers = classification_report(y_test, y_pred_no_outliers, target_names=[\"Not Survived\", \"Survived\"])\n",
        "\n",
        "accuracy_no_outliers"
      ],
      "metadata": {
        "colab": {
          "base_uri": "https://localhost:8080/"
        },
        "id": "BBI5dLTi2bCi",
        "outputId": "d071913a-f96e-4113-9464-1fed1e5fcbdb"
      },
      "execution_count": 15,
      "outputs": [
        {
          "output_type": "execute_result",
          "data": {
            "text/plain": [
              "1.0"
            ]
          },
          "metadata": {},
          "execution_count": 15
        }
      ]
    },
    {
      "cell_type": "code",
      "source": [
        "report_no_outliers"
      ],
      "metadata": {
        "colab": {
          "base_uri": "https://localhost:8080/",
          "height": 67
        },
        "id": "qg_cRTGX3Voy",
        "outputId": "7c6793ad-ec29-44b8-fe19-62f7326336f2"
      },
      "execution_count": 16,
      "outputs": [
        {
          "output_type": "execute_result",
          "data": {
            "text/plain": [
              "'              precision    recall  f1-score   support\\n\\nNot Survived       1.00      1.00      1.00        79\\n    Survived       1.00      1.00      1.00        47\\n\\n    accuracy                           1.00       126\\n   macro avg       1.00      1.00      1.00       126\\nweighted avg       1.00      1.00      1.00       126\\n'"
            ],
            "application/vnd.google.colaboratory.intrinsic+json": {
              "type": "string"
            }
          },
          "metadata": {},
          "execution_count": 16
        }
      ]
    },
    {
      "cell_type": "markdown",
      "source": [
        "После обработки данных модель также достигла идеальных метрик:\n",
        "- **Точность (accuracy)**: 1.0\n",
        "- Метрики precision, recall, f1-score также равны 1.0.\n",
        "\n",
        "Это может свидетельствовать о том, что данные слишком простые для текущей задачи."
      ],
      "metadata": {
        "id": "BSQmxVo23dON"
      }
    },
    {
      "cell_type": "markdown",
      "source": [
        "### Выявление выбросов с использованием статистического подхода и DBSCAN."
      ],
      "metadata": {
        "id": "0tPHpNtQ3SHB"
      }
    },
    {
      "cell_type": "code",
      "source": [
        "from sklearn.cluster import DBSCAN\n",
        "from sklearn.preprocessing import StandardScaler\n",
        "\n",
        "# Стандартизация данных для DBSCAN\n",
        "scaler = StandardScaler()\n",
        "X_train_scaled = scaler.fit_transform(X_train)\n",
        "\n",
        "# Применение DBSCAN\n",
        "dbscan = DBSCAN(eps=1.5, min_samples=5)\n",
        "clusters = dbscan.fit_predict(X_train_scaled)\n",
        "\n",
        "# Определение выбросов (метка -1)\n",
        "no_outliers_mask = clusters != -1\n",
        "\n",
        "# Удаление выбросов\n",
        "X_train_dbscan = X_train[no_outliers_mask]\n",
        "y_train_dbscan = y_train[no_outliers_mask]\n",
        "\n",
        "# Проверка размера данных после удаления выбросов\n",
        "X_train_dbscan.shape, y_train_dbscan.shape"
      ],
      "metadata": {
        "colab": {
          "base_uri": "https://localhost:8080/"
        },
        "id": "YKiHuQ_X2cu_",
        "outputId": "934c9e8f-2d01-4ce6-cd29-ffd35cd927d7"
      },
      "execution_count": 13,
      "outputs": [
        {
          "output_type": "execute_result",
          "data": {
            "text/plain": [
              "((276, 5), (276,))"
            ]
          },
          "metadata": {},
          "execution_count": 13
        }
      ]
    },
    {
      "cell_type": "markdown",
      "source": [
        "### Обучение модели на данных без выбросов, выявленных DBSCAN"
      ],
      "metadata": {
        "id": "KEmgg1Xx3qT9"
      }
    },
    {
      "cell_type": "code",
      "source": [
        "# Обучение модели на данных без выбросов (DBSCAN)\n",
        "model_dbscan = LogisticRegression(random_state=42)\n",
        "model_dbscan.fit(X_train_dbscan, y_train_dbscan)\n",
        "\n",
        "# Предсказания на тестовой выборке\n",
        "y_pred_dbscan = model_dbscan.predict(X_test)\n",
        "\n",
        "# Оценка метрик\n",
        "accuracy_dbscan = accuracy_score(y_test, y_pred_dbscan)\n",
        "report_dbscan = classification_report(y_test, y_pred_dbscan, target_names=[\"Not Survived\", \"Survived\"])\n",
        "\n",
        "accuracy_dbscan"
      ],
      "metadata": {
        "colab": {
          "base_uri": "https://localhost:8080/"
        },
        "id": "jAIYqj5D2ekU",
        "outputId": "0b3d9bbc-cbf0-4ef3-9bc1-412dd338cded"
      },
      "execution_count": 21,
      "outputs": [
        {
          "output_type": "execute_result",
          "data": {
            "text/plain": [
              "1.0"
            ]
          },
          "metadata": {},
          "execution_count": 21
        }
      ]
    },
    {
      "cell_type": "code",
      "source": [
        "report_dbscan"
      ],
      "metadata": {
        "colab": {
          "base_uri": "https://localhost:8080/",
          "height": 67
        },
        "id": "RWqqbUzp3xpf",
        "outputId": "afef3876-e7fb-4586-af37-b9e5bf04a3d6"
      },
      "execution_count": 22,
      "outputs": [
        {
          "output_type": "execute_result",
          "data": {
            "text/plain": [
              "'              precision    recall  f1-score   support\\n\\nNot Survived       1.00      1.00      1.00        79\\n    Survived       1.00      1.00      1.00        47\\n\\n    accuracy                           1.00       126\\n   macro avg       1.00      1.00      1.00       126\\nweighted avg       1.00      1.00      1.00       126\\n'"
            ],
            "application/vnd.google.colaboratory.intrinsic+json": {
              "type": "string"
            }
          },
          "metadata": {},
          "execution_count": 22
        }
      ]
    },
    {
      "cell_type": "markdown",
      "source": [
        "### Выводы:\n",
        "1. Вне зависимости от обработки данных и удаления выбросов (статистическим подходом или DBSCAN), данные слишком просты для задачи, что приводит к идеальным метрикам."
      ],
      "metadata": {
        "id": "hxsAqB2t3vCD"
      }
    }
  ]
}